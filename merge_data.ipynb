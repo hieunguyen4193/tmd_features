{
 "cells": [
  {
   "cell_type": "code",
   "execution_count": 10,
   "metadata": {},
   "outputs": [
    {
     "name": "stdout",
     "output_type": "stream",
     "text": [
      "Number of files in this folder: 1098\n"
     ]
    },
    {
     "name": "stderr",
     "output_type": "stream",
     "text": [
      "  0%|          | 0/1097 [00:00<?, ?it/s]"
     ]
    },
    {
     "name": "stderr",
     "output_type": "stream",
     "text": [
      "100%|██████████| 1097/1097 [00:04<00:00, 272.72it/s]\n"
     ]
    }
   ],
   "source": [
    "import pandas as pd \n",
    "import pathlib\n",
    "from tqdm import tqdm\n",
    "\n",
    "path_to_input = \"/home/hieunguyen/Downloads/upload_Vi\"\n",
    "files = [item for item in pathlib.Path(path_to_input).glob(\"*.csv\")]\n",
    "\n",
    "print(f\"Number of files in this folder: {len(files)}\")\n",
    "\n",
    "file = files[0]\n",
    "fulldf = pd.read_csv(file)\n",
    "fulldf = fulldf[[\"region\", \"candi_reads\"]]\n",
    "fulldf.columns = [\"region\", file.name.replace(\".candi_reads.csv\", \"\")]\n",
    "\n",
    "for file in tqdm(files[1:]):\n",
    "    tmpdf = pd.read_csv(file)\n",
    "    tmpdf = tmpdf[[\"region\", \"candi_reads\"]]\n",
    "    tmpdf.columns = [\"region\", file.name.replace(\".candi_reads.csv\", \"\")]\n",
    "    fulldf = fulldf.merge(tmpdf, right_on = \"region\", left_on = \"region\")\n",
    "\n",
    "fulldf.to_csv(\"merge_all_samples.csv\")\n"
   ]
  }
 ],
 "metadata": {
  "kernelspec": {
   "display_name": "pytorch",
   "language": "python",
   "name": "python3"
  },
  "language_info": {
   "codemirror_mode": {
    "name": "ipython",
    "version": 3
   },
   "file_extension": ".py",
   "mimetype": "text/x-python",
   "name": "python",
   "nbconvert_exporter": "python",
   "pygments_lexer": "ipython3",
   "version": "3.9.19"
  }
 },
 "nbformat": 4,
 "nbformat_minor": 2
}
