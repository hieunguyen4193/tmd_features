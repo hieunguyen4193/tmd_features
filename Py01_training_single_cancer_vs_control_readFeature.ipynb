{
 "cells": [
  {
   "cell_type": "code",
   "execution_count": 1,
   "metadata": {},
   "outputs": [
    {
     "name": "stderr",
     "output_type": "stream",
     "text": [
      "  0%|          | 2/4194 [00:20<12:04:50, 10.37s/it]"
     ]
    }
   ],
   "source": [
    "import pandas as pd\n",
    "import numpy as np\n",
    "import pathlib \n",
    "import os\n",
    "import matplotlib.pyplot as plt\n",
    "import seaborn as sns\n",
    "\n",
    "from tqdm import tqdm\n",
    "import warnings\n",
    "warnings.filterwarnings('ignore')\n",
    "\n",
    "path_to_main_src = pathlib.Path(\"/media/hieunguyen/HNSD01/src/tmd_features\")\n",
    "data_version = \"TMD_cov\"\n",
    "output_version = \"20240907\"\n",
    "\n",
    "outdir = pathlib.Path(\"/media/hieunguyen/HNSD_mini/outdir\")\n",
    "path_to_input = outdir / \"raw_data\" / \"bismark_cov\" / data_version\n",
    "path_to_main_output = outdir / \"TMD_read_based_features\" / \"output\" / f\"data_{data_version}\" / output_version\n",
    "path_to_difftest_output = path_to_main_output / \"difftest_output\"\n",
    "path_to_difftest_output.mkdir(parents=True, exist_ok=True)\n",
    "\n",
    "path_to_save_QC_output = path_to_main_output / \"QC\"\n",
    "\n",
    "thres_hypo = 0.3\n",
    "thres_hyper = 0.6\n",
    "\n",
    "input_cancer_class = \"Liver\"\n",
    "check_region = pd.read_excel(os.path.join(path_to_difftest_output, \"diff_test_{}_region_summary.xlsx\".format(input_cancer_class)))\n",
    "\n",
    "metadata = pd.read_excel(\"metadata_cfDNA_lowpdepth_TMD_bam_cov.xlsx\")\n",
    "\n",
    "path_to_read_data = \"/media/hieunguyen/GSHD_HN01/raw_data/reads_from_450_regions\"\n",
    "\n",
    "path_to_py01_output = os.path.join(path_to_main_output, \"py01_output\")\n",
    "os.system(\"mkdir -p {}\".format(path_to_py01_output))\n",
    "\n",
    "all_read_files = [item for item in pathlib.Path(path_to_read_data).glob(\"*.csv\")]\n",
    "\n",
    "def classify_read(alpha, region):\n",
    "    region_type = check_region[check_region[\"CpG\"] == region][\"region_type\"].values[0]\n",
    "    if region_type == \"hypo\":\n",
    "        if alpha < thres_hypo:\n",
    "            return \"candi\"\n",
    "        else:\n",
    "            return \"none\"\n",
    "    elif region_type == \"hyper\":\n",
    "        if alpha > thres_hyper:\n",
    "            return \"candi\"\n",
    "        else:\n",
    "            return \"none\"\n",
    "\n",
    "def assign_read_type(x, thres_hypo, thres_hyper):\n",
    "    if x < thres_hypo:\n",
    "        return \"hypo\"\n",
    "    elif x > thres_hyper:\n",
    "        return \"hyper\"\n",
    "    else:\n",
    "        return \"none\"\n",
    "\n",
    "for file in tqdm(all_read_files):\n",
    "    tmpdf = pd.read_csv(file, sep=\",\", index_col=0)\n",
    "\n",
    "    tmpdf[\"region\"] = tmpdf[\"region\"].apply(lambda x: x.replace(\":\", \"_\").replace(\"-\", \"_\"))\n",
    "    tmpdf = tmpdf[tmpdf[\"region\"].isin(check_region.CpG.unique())]\n",
    "\n",
    "    tmpdf[\"read_type\"] = tmpdf[\"alpha\"].apply(lambda x: assign_read_type(x, thres_hypo, thres_hyper))\n",
    "\n",
    "    tmpdf[\"read_classification\"] = tmpdf[[\"alpha\", \"region\"]].apply(lambda x: classify_read(x[0], x[1]), axis = 1)\n",
    "\n",
    "    count_candi_reads = tmpdf.groupby([\"region\", \"read_classification\"])[\"methyl_string\"].count().reset_index().pivot(index = \"region\", columns = \"read_classification\", values = \"methyl_string\").fillna(0)\n",
    "    count_candi_reads[\"fraction\"] = count_candi_reads[[\"candi\", \"none\"]].apply(lambda x: x[0]/(x[0] + x[1]), axis = 1)\n",
    "\n",
    "    count_candi_reads.to_csv(os.path.join(path_to_py01_output, \"{}.candi_reads.csv\".format(file.name.split(\".\")[0])))"
   ]
  }
 ],
 "metadata": {
  "kernelspec": {
   "display_name": "pytorch",
   "language": "python",
   "name": "python3"
  },
  "language_info": {
   "codemirror_mode": {
    "name": "ipython",
    "version": 3
   },
   "file_extension": ".py",
   "mimetype": "text/x-python",
   "name": "python",
   "nbconvert_exporter": "python",
   "pygments_lexer": "ipython3",
   "version": "3.9.19"
  }
 },
 "nbformat": 4,
 "nbformat_minor": 2
}
