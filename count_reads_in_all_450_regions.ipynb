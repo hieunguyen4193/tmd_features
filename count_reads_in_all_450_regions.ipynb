{
 "cells": [
  {
   "cell_type": "code",
   "execution_count": null,
   "metadata": {
    "vscode": {
     "languageId": "plaintext"
    }
   },
   "outputs": [],
   "source": [
    "import pandas as pd\n",
    "import numpy as np\n",
    "import pathlib \n",
    "import os\n",
    "import matplotlib.pyplot as plt\n",
    "import seaborn as sns\n",
    "import random\n",
    "from tqdm import tqdm\n",
    "import warnings\n",
    "import pandas as pd\n",
    "warnings.filterwarnings('ignore')\n",
    "\n",
    "data_version = \"TMD_cov\"\n",
    "output_version = \"20240910\"\n",
    "\n",
    "outdir = \"/media/hieunguyen/HNSD_mini/outdir\"\n",
    "PROJECT = \"TMD450_TCGA_data_analysis\"\n",
    "thres_hypo = 0.3\n",
    "thres_hyper = 0.6\n",
    "path_to_read_data = \"/media/hieunguyen/GSHD_HN01/raw_data/reads_from_450_regions\"\n",
    "\n",
    "all_read_files = [item for item in pathlib.Path(path_to_read_data).glob(\"*.sorted.csv\") if item.name.replace(\".sorted.csv\", \"\") in metadata[\"SampleID\"].values]\n",
    "\n",
    "for file in tqdm(all_read_files):\n",
    "    tmpdf = pd.read_csv(file, index_col = [0])\n",
    "    \n",
    "    tmpdf[\"read_overlap_rate\"] = tmpdf[[\"start\", \"seq\", \"region\"]].apply(lambda x: check_read_inside_region(x[0], x[1], x[2]), axis = 1)\n",
    "    tmpdf = tmpdf[tmpdf[\"read_overlap_rate\"] == \"in\"]\n",
    "\n",
    "    tmpdf[\"read_classification\"] = tmpdf[\"alpha\"].apply(lambda x: assign_read_type(x, thres_hypo, thres_hyper))\n"
   ]
  }
 ],
 "metadata": {
  "language_info": {
   "name": "python"
  }
 },
 "nbformat": 4,
 "nbformat_minor": 2
}
