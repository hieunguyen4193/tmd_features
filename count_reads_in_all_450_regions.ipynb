{
 "cells": [
  {
   "cell_type": "code",
   "execution_count": 3,
   "metadata": {},
   "outputs": [
    {
     "name": "stderr",
     "output_type": "stream",
     "text": [
      "  6%|▌         | 407/7289 [09:15<2:50:19,  1.48s/it]"
     ]
    }
   ],
   "source": [
    "import pandas as pd\n",
    "import numpy as np\n",
    "import pathlib \n",
    "import os\n",
    "import matplotlib.pyplot as plt\n",
    "import seaborn as sns\n",
    "import random\n",
    "from tqdm import tqdm\n",
    "import warnings\n",
    "import pandas as pd\n",
    "warnings.filterwarnings('ignore')\n",
    "\n",
    "data_version = \"TMD_cov\"\n",
    "output_version = \"20240910\"\n",
    "\n",
    "outdir = \"/media/hieunguyen/HNSD_mini/outdir\"\n",
    "PROJECT = \"TMD450_TCGA_data_analysis\"\n",
    "thres_hypo = 0.3\n",
    "thres_hyper = 0.6\n",
    "path_to_read_data = \"/media/hieunguyen/GSHD_HN01/raw_data/reads_from_450_regions\"\n",
    "\n",
    "metadata = pd.read_excel(\"metadata_cfDNA_lowpdepth_TMD_bam_cov.xlsx\")\n",
    "\n",
    "all_read_files = [item for item in pathlib.Path(path_to_read_data).glob(\"*.sorted.csv\") if item.name.replace(\".sorted.csv\", \"\") in metadata[\"SampleID\"].values]\n",
    "\n",
    "def check_read_inside_region(start, seq, region):\n",
    "    read_end = start + len(seq)\n",
    "    region_start = int(region.split(\":\")[1].split(\"-\")[0])\n",
    "    region_end = int(region.split(\":\")[1].split(\"-\")[1])\n",
    "    if start >= region_start and read_end <= region_end:\n",
    "        return \"in\"\n",
    "    else: \n",
    "        return \"overlap\"\n",
    "    \n",
    "all_samples = []\n",
    "raw_counts = []\n",
    "in_read_counts = []\n",
    "\n",
    "for file in tqdm(all_read_files):\n",
    "    tmpdf = pd.read_csv(file, index_col = [0])\n",
    "    tmpdf[\"read_overlap_rate\"] = tmpdf[[\"start\", \"seq\", \"region\"]].apply(lambda x: check_read_inside_region(x[0], x[1], x[2]), axis = 1)\n",
    "    raw_count = tmpdf.shape[0]\n",
    "    in_read_count = tmpdf[tmpdf[\"read_overlap_rate\"] == \"in\"].shape[0]\n",
    "    all_samples.append(file.name.replace(\".sorted.csv\", \"\"))\n",
    "    raw_counts.append(raw_count)\n",
    "    in_read_counts.append(in_read_count)\n",
    "\n"
   ]
  }
 ],
 "metadata": {
  "kernelspec": {
   "display_name": "pytorch",
   "language": "python",
   "name": "python3"
  },
  "language_info": {
   "codemirror_mode": {
    "name": "ipython",
    "version": 3
   },
   "file_extension": ".py",
   "mimetype": "text/x-python",
   "name": "python",
   "nbconvert_exporter": "python",
   "pygments_lexer": "ipython3",
   "version": "3.9.19"
  }
 },
 "nbformat": 4,
 "nbformat_minor": 2
}
