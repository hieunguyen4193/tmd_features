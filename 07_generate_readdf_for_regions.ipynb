{
 "cells": [
  {
   "cell_type": "code",
   "execution_count": 1,
   "metadata": {},
   "outputs": [
    {
     "name": "stdout",
     "output_type": "stream",
     "text": [
      "working on input cancer class Liver\n",
      "Number of TMD450 regions that have been tested by TCGA data: 274\n"
     ]
    },
    {
     "name": "stderr",
     "output_type": "stream",
     "text": [
      "100%|██████████| 1/1 [00:01<00:00,  1.87s/it]\n"
     ]
    },
    {
     "name": "stdout",
     "output_type": "stream",
     "text": [
      "working on input cancer class Gastric\n",
      "Number of TMD450 regions that have been tested by TCGA data: 294\n"
     ]
    },
    {
     "name": "stderr",
     "output_type": "stream",
     "text": [
      "100%|██████████| 1/1 [00:01<00:00,  1.92s/it]\n"
     ]
    },
    {
     "name": "stdout",
     "output_type": "stream",
     "text": [
      "working on input cancer class Lung\n",
      "Number of TMD450 regions that have been tested by TCGA data: 289\n"
     ]
    },
    {
     "name": "stderr",
     "output_type": "stream",
     "text": [
      "100%|██████████| 1/1 [00:01<00:00,  1.89s/it]\n"
     ]
    },
    {
     "name": "stdout",
     "output_type": "stream",
     "text": [
      "working on input cancer class Breast\n",
      "Number of TMD450 regions that have been tested by TCGA data: 287\n"
     ]
    },
    {
     "name": "stderr",
     "output_type": "stream",
     "text": [
      "100%|██████████| 1/1 [00:01<00:00,  1.31s/it]\n"
     ]
    },
    {
     "name": "stdout",
     "output_type": "stream",
     "text": [
      "working on input cancer class CRC\n",
      "Number of TMD450 regions that have been tested by TCGA data: 289\n"
     ]
    },
    {
     "name": "stderr",
     "output_type": "stream",
     "text": [
      "100%|██████████| 1/1 [00:01<00:00,  1.90s/it]\n"
     ]
    }
   ],
   "source": [
    "import pandas as pd\n",
    "import numpy as np\n",
    "import pathlib \n",
    "import os\n",
    "import matplotlib.pyplot as plt\n",
    "import seaborn as sns\n",
    "import random\n",
    "from tqdm import tqdm\n",
    "import warnings\n",
    "import pandas as pd\n",
    "warnings.filterwarnings('ignore')\n",
    "\n",
    "data_version = \"TMD_cov\"\n",
    "output_version = \"20240910\"\n",
    "\n",
    "outdir = \"/media/hieunguyen/HNSD_mini/outdir\"\n",
    "PROJECT = \"TMD450_TCGA_data_analysis\"\n",
    "thres_hypo = 0.3\n",
    "thres_hyper = 0.6\n",
    "\n",
    "# input_cancer_class = \"Liver\"\n",
    "all_cancer_classes = [\"Liver\", \"Gastric\", \"Lung\", \"Breast\", \"CRC\"]\n",
    "for input_cancer_class in all_cancer_classes:\n",
    "    print(\"working on input cancer class {}\".format(input_cancer_class))\n",
    "\n",
    "    path_to_main_output = os.path.join(outdir, PROJECT, output_version)\n",
    "    path_to_03_output = os.path.join(path_to_main_output, \"03_output\", input_cancer_class)\n",
    "    path_to_07_output = os.path.join(outdir, PROJECT, output_version, \"07_output\", input_cancer_class, \"thres_hypo_{}_hyper_{}\".format(thres_hypo, thres_hyper))\n",
    "    os.system(\"mkdir -p {}\".format(path_to_07_output))\n",
    "\n",
    "    path_to_main_src = pathlib.Path(\"/media/hieunguyen/HNSD01/src/tmd_features\")\n",
    "\n",
    "    path_to_read_data = \"/media/hieunguyen/GSHD_HN01/raw_data/reads_from_450_regions\"\n",
    "    path_to_save_panel = os.path.join( path_to_main_output, \"panel\")\n",
    "\n",
    "    cpg450df = pd.read_excel(os.path.join(path_to_save_panel, \"TMD450_overlapping_TCGA.xlsx\"))\n",
    "    cpg450df = cpg450df[cpg450df['overlapTCGA'] == \"yes\"]\n",
    "    cpg450df = cpg450df.drop_duplicates(subset=['cpg'])\n",
    "\n",
    "    metadata = pd.read_excel(\"metadata_cfDNA_lowpdepth_TMD_bam_cov.xlsx\")\n",
    "    metadata = metadata[metadata[\"Label\"].isin([input_cancer_class, \"Control\"])]\n",
    "\n",
    "    ##### generate readdf for all samples, not only training samples\n",
    "    # metadata = metadata[metadata[\"Set\"] == \"train\"]\n",
    "\n",
    "    metadata.head()\n",
    "    metadata.shape\n",
    "\n",
    "    def assign_read_type(x, thres_hypo, thres_hyper):\n",
    "        if x < thres_hypo:\n",
    "            return \"hypo\"\n",
    "        elif x > thres_hyper:\n",
    "            return \"hyper\"\n",
    "        else:\n",
    "            return \"none\"\n",
    "    def check_read_inside_region(start, seq, region):\n",
    "            read_end = start + len(seq)\n",
    "            region_start = int(region.split(\":\")[1].split(\"-\")[0])\n",
    "            region_end = int(region.split(\":\")[1].split(\"-\")[1])\n",
    "            if start >= region_start and read_end <= region_end:\n",
    "                return \"in\"\n",
    "            else: \n",
    "                return \"overlap\"\n",
    "            \n",
    "    all_read_files = [item for item in pathlib.Path(path_to_read_data).glob(\"*.sorted.csv\") if item.name.replace(\".sorted.csv\", \"\") in metadata[\"SampleID\"].values]\n",
    "    testdf = pd.read_excel(os.path.join(path_to_03_output, \"countDMPs.xlsx\"))\n",
    "    print(\"Number of TMD450 regions that have been tested by TCGA data: {}\".format(testdf.shape[0]))\n",
    "    testdf[\"hypo_or_hyper\"] = testdf[[\"hyper\", \"hypo\"]].apply(lambda x: \"hyper\" if x[0] > x[1] else \"hypo\", axis = 1)\n",
    "\n",
    "    # for file in tqdm(all_read_files):\n",
    "    for file in tqdm(all_read_files[0:1]):\n",
    "        if os.path.isfile(os.path.join(path_to_07_output, file.name.replace(\".sorted.csv\", \".read_classification.csv\"))) == False:\n",
    "            tmpdf = pd.read_csv(file, index_col = [0])\n",
    "            tmpdf[\"read_overlap_rate\"] = tmpdf[[\"start\", \"seq\", \"region\"]].apply(lambda x: check_read_inside_region(x[0], x[1], x[2]), axis = 1)\n",
    "\n",
    "            ##### keep only reads that are completely inside the region\n",
    "            tmpdf = tmpdf[tmpdf[\"read_overlap_rate\"] == \"in\"]\n",
    "\n",
    "            ##### assign read type: hyper or hypo reads based on the given thresholds\n",
    "            tmpdf[\"read_classification\"] = tmpdf[\"alpha\"].apply(lambda x: assign_read_type(x, thres_hypo, thres_hyper))\n",
    "            \n",
    "            ##### considers only regions that are tested with the TCGA data\n",
    "            tmpdf[\"region\"] = tmpdf[\"region\"].apply(lambda x: x.replace(\":\", \"_\").replace(\"-\", \"_\"))\n",
    "            tmpdf = tmpdf[tmpdf[\"region\"].isin(testdf.Var1.unique())]\n",
    "\n",
    "            ##### count hypo and hyper reads in each region\n",
    "            resdf = tmpdf.groupby([\"region\", \"read_classification\"]).seq.count().reset_index().pivot_table(index = \"region\", columns = \"read_classification\", values = \"seq\").reset_index().fillna(0)\n",
    "\n",
    "            ##### get the region type from TCGA test results\n",
    "            resdf[\"region_type\"] = resdf[\"region\"].apply(lambda x: testdf[testdf.Var1 == x].hypo_or_hyper.values[0])\n",
    "\n",
    "            ##### assign candi reads equal to number of hypo or hyper reads, depending on the region type\n",
    "            resdf[\"candi_reads\"] = resdf[[\"region_type\", \"hyper\", \"hypo\"]].apply(lambda x: x[1] if x[0] == \"hyper\" else x[2], axis = 1)\n",
    "            \n",
    "            ##### save the results\n",
    "            resdf.to_csv(os.path.join(path_to_07_output, \"{}.candi_reads.csv\".format(file.name.split(\".\")[0])), index = False)\n",
    "            tmpdf.to_csv(os.path.join(path_to_07_output, file.name.replace(\".sorted.csv\", \".read_classification.csv\")))\n",
    "        else:\n",
    "            print(\"File {} already exists\".format(file.name.replace(\".sorted.csv\", \".read_classification.csv\")))\n"
   ]
  }
 ],
 "metadata": {
  "kernelspec": {
   "display_name": "pytorch",
   "language": "python",
   "name": "python3"
  },
  "language_info": {
   "codemirror_mode": {
    "name": "ipython",
    "version": 3
   },
   "file_extension": ".py",
   "mimetype": "text/x-python",
   "name": "python",
   "nbconvert_exporter": "python",
   "pygments_lexer": "ipython3",
   "version": "3.9.19"
  }
 },
 "nbformat": 4,
 "nbformat_minor": 2
}
