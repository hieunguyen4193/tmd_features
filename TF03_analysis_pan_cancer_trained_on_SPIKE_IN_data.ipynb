{
 "cells": [
  {
   "cell_type": "code",
   "execution_count": 7,
   "metadata": {},
   "outputs": [
    {
     "name": "stdout",
     "output_type": "stream",
     "text": [
      "Number of samples in this version: 4956\n",
      "Number of samples in this version: 4056\n"
     ]
    }
   ],
   "source": [
    "import pandas as pd\n",
    "import numpy as np\n",
    "import pathlib \n",
    "import os\n",
    "import matplotlib.pyplot as plt\n",
    "import seaborn as sns\n",
    "import random\n",
    "from tqdm import tqdm\n",
    "import warnings\n",
    "import pandas as pd\n",
    "from sklearn.metrics import roc_curve, auc\n",
    "import pickle\n",
    "def check_read_inside_region(start, seq, region):\n",
    "        read_end = start + len(seq)\n",
    "        region_start = int(region.split(\":\")[1].split(\"-\")[0])\n",
    "        region_end = int(region.split(\":\")[1].split(\"-\")[1])\n",
    "        if start >= region_start and read_end <= region_end:\n",
    "            return \"in\"\n",
    "        else: \n",
    "            return \"overlap\"\n",
    "\n",
    "warnings.filterwarnings('ignore')\n",
    "\n",
    "data_version = \"TMD_cov\"\n",
    "output_version = \"20240910\"\n",
    "\n",
    "outdir = \"/media/hieunguyen/GSHD_HN01/outdir\"\n",
    "PROJECT = \"TMD450_TCGA_data_analysis\"\n",
    "thres_hypo = 0.3\n",
    "thres_hyper = 0.6\n",
    "\n",
    "mode = \"all\"\n",
    "input_cancer_class = \"PAN_CANCER\"\n",
    "selected_candi_features = \"ratio_raw\"\n",
    "\n",
    "path_to_main_output = os.path.join(outdir, PROJECT, output_version)\n",
    "path_to_02_output = os.path.join(path_to_main_output, \"PANCANCER02_output\")\n",
    "    \n",
    "path_to_07_output = os.path.join(path_to_main_output, \"PANCANCER07_output\")\n",
    "path_to_08_output = os.path.join(path_to_main_output, \"PANCANCER08_output\")\n",
    "\n",
    "path_to_tf_output = os.path.join(outdir, PROJECT, output_version, \"TF_output\")\n",
    "path_to_03_tf_output = os.path.join(path_to_tf_output, \"03_output\")\n",
    "os.system(f\"mkdir -p {path_to_03_tf_output}\")\n",
    "\n",
    "candidf = pd.read_excel(os.path.join(path_to_08_output, \"candi_reads_all_{}_vs_control.xlsx\".format(\"PAN_CANCER\")))\n",
    "candidf_origin = candidf.copy()\n",
    "convert_ratio = {\n",
    "    '0001': 0.001, \n",
    "    '001': 0.01, \n",
    "    '0005': 0.005, \n",
    "    '005': 0.05, \n",
    "    '01': 0.1,\n",
    "    '05': 0.5,\n",
    "    '08': 0.8\n",
    "}\n",
    "\n",
    "metadata_spike_in = pd.read_csv(\"metadata_Spike_in_silico_TMD_samples_from_tissue_highdepth_07102024.csv\")\n",
    "\n",
    "\n",
    "print(f\"Number of samples in this version: {candidf.shape[0]}\")\n",
    "ichorcnadf = pd.read_csv(\"validation_Truong_Vi/metadata_Spike_in_silico_GW_samples_from_tissue_highdepth_15112024.csv\")\n",
    "ichorcnadf_bosung = pd.read_csv(\"summary_tumor_fraction_bosung_80pct.csv\")\n",
    "new_metadata = pd.read_csv(\"metadata_Spike_in_silico_GW_samples_from_tissue_highdepth_15112024.csv\")\n",
    "new_metadata  = new_metadata[new_metadata[\"Spike_in_ratio\"] == 80]\n",
    "new_metadata[\"ichorCNA\"] = new_metadata[\"SampleID\"].apply(lambda x: ichorcnadf_bosung[ichorcnadf_bosung[\"Sample\"] == x][\"ichorCNA\"].values[0])\n",
    "ichorcnadf = pd.concat([ichorcnadf, new_metadata], axis = 0)\n",
    "\n",
    "candidf = candidf.merge(ichorcnadf[[\"SampleID\", \"ichorCNA\"]], right_on = \"SampleID\", left_on = \"SampleID\")\n",
    "candidf[\"Label\"] = candidf[\"SampleID\"].apply(lambda x: x.split(\"_\")[8])\n",
    "candidf[\"spike_in_ratio\"] = candidf[\"SampleID\"].apply(lambda x: convert_ratio[x.split(\"_\")[4]])\n",
    "print(f\"Number of samples in this version: {candidf.shape[0]}\")\n",
    "\n",
    "metadata = pd.concat([metadata_spike_in, new_metadata], axis = 0)\n"
   ]
  },
  {
   "cell_type": "code",
   "execution_count": 12,
   "metadata": {},
   "outputs": [
    {
     "data": {
      "text/plain": [
       "spike_in_ratio\n",
       "0.001    750\n",
       "0.005    750\n",
       "0.010    750\n",
       "0.050    750\n",
       "0.100    732\n",
       "0.500    234\n",
       "0.800     90\n",
       "Name: SampleID, dtype: int64"
      ]
     },
     "execution_count": 12,
     "metadata": {},
     "output_type": "execute_result"
    }
   ],
   "source": [
    "candidf.groupby(\"spike_in_ratio\")[\"SampleID\"].count()"
   ]
  }
 ],
 "metadata": {
  "kernelspec": {
   "display_name": "pytorch",
   "language": "python",
   "name": "python3"
  },
  "language_info": {
   "codemirror_mode": {
    "name": "ipython",
    "version": 3
   },
   "file_extension": ".py",
   "mimetype": "text/x-python",
   "name": "python",
   "nbconvert_exporter": "python",
   "pygments_lexer": "ipython3",
   "version": "3.9.19"
  }
 },
 "nbformat": 4,
 "nbformat_minor": 2
}
