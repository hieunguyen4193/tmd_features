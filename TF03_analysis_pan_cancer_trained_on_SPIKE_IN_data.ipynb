{
 "cells": [
  {
   "cell_type": "code",
   "execution_count": null,
   "metadata": {},
   "outputs": [],
   "source": [
    "import pandas as pd\n",
    "import numpy as np\n",
    "import pathlib \n",
    "import os\n",
    "import matplotlib.pyplot as plt\n",
    "import seaborn as sns\n",
    "import random\n",
    "from tqdm import tqdm\n",
    "import warnings\n",
    "import pandas as pd\n",
    "from sklearn.metrics import roc_curve, auc\n",
    "import pickle\n",
    "def check_read_inside_region(start, seq, region):\n",
    "        read_end = start + len(seq)\n",
    "        region_start = int(region.split(\":\")[1].split(\"-\")[0])\n",
    "        region_end = int(region.split(\":\")[1].split(\"-\")[1])\n",
    "        if start >= region_start and read_end <= region_end:\n",
    "            return \"in\"\n",
    "        else: \n",
    "            return \"overlap\"\n",
    "\n",
    "warnings.filterwarnings('ignore')\n",
    "\n",
    "data_version = \"TMD_cov\"\n",
    "output_version = \"20240910\"\n",
    "\n",
    "outdir = \"/media/hieunguyen/GSHD_HN01/outdir\"\n",
    "PROJECT = \"TMD450_TCGA_data_analysis\"\n",
    "thres_hypo = 0.3\n",
    "thres_hyper = 0.6\n",
    "\n",
    "mode = \"all\"\n",
    "\n",
    "path_to_main_output = os.path.join(outdir, PROJECT, output_version)\n",
    "path_to_07_output = os.path.join(path_to_main_output, \"PANCANCER07_output\")\n",
    "path_to_08_output = os.path.join(path_to_main_output, \"PANCANCER08_output\")\n",
    "\n",
    "path_to_tf_output = os.path.join(outdir, PROJECT, output_version, \"TF_output\")\n",
    "path_to_03_tf_output = os.path.join(path_to_tf_output, \"03_output\")\n",
    "os.system(f\"mkdir -p {path_to_03_tf_output}\")\n"
   ]
  }
 ],
 "metadata": {
  "kernelspec": {
   "display_name": "pytorch",
   "language": "python",
   "name": "python3"
  },
  "language_info": {
   "name": "python",
   "version": "3.9.19"
  }
 },
 "nbformat": 4,
 "nbformat_minor": 2
}
