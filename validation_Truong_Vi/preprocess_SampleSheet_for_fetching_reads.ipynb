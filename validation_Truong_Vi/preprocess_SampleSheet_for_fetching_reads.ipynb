{
 "cells": [
  {
   "cell_type": "code",
   "execution_count": 15,
   "metadata": {},
   "outputs": [],
   "source": [
    "import pandas as pd \n",
    "\n",
    "df1 = pd.read_excel(\"Dataset_CRC_13.11_Methylation read_checked.xlsx\")\n",
    "df2 = pd.read_csv(\"metadata_Spike_in_silico_GW_samples_from_tissue_highdepth_15112024.csv\")\n",
    "df3 = pd.read_excel(\"metadata evaluate ctquantification.xlsx\")\n",
    "\n",
    "df1 = df1[[\"SampleID\", \"TM_BAM\"]]\n",
    "df3 = df3[[\"SampleID\", \"TM_BAM\"]]\n",
    "\n",
    "df = pd.concat([df1, df3], axis = 0)\n",
    "\n",
    "df.to_csv(\"validation_samples_Truong_and_Vi.csv\")"
   ]
  },
  {
   "cell_type": "code",
   "execution_count": 16,
   "metadata": {},
   "outputs": [
    {
     "data": {
      "text/html": [
       "<div>\n",
       "<style scoped>\n",
       "    .dataframe tbody tr th:only-of-type {\n",
       "        vertical-align: middle;\n",
       "    }\n",
       "\n",
       "    .dataframe tbody tr th {\n",
       "        vertical-align: top;\n",
       "    }\n",
       "\n",
       "    .dataframe thead th {\n",
       "        text-align: right;\n",
       "    }\n",
       "</style>\n",
       "<table border=\"1\" class=\"dataframe\">\n",
       "  <thead>\n",
       "    <tr style=\"text-align: right;\">\n",
       "      <th></th>\n",
       "      <th>SampleID</th>\n",
       "      <th>TM_BAM</th>\n",
       "    </tr>\n",
       "  </thead>\n",
       "  <tbody>\n",
       "    <tr>\n",
       "      <th>0</th>\n",
       "      <td>CRCB54</td>\n",
       "      <td>/mnt/BACKUP_NAS05/ECDTM_repository/align/CRCB5...</td>\n",
       "    </tr>\n",
       "    <tr>\n",
       "      <th>1</th>\n",
       "      <td>CRCB55</td>\n",
       "      <td>/mnt/BACKUP_NAS05/ECDTM_repository/align/CRCB5...</td>\n",
       "    </tr>\n",
       "    <tr>\n",
       "      <th>2</th>\n",
       "      <td>CRCB59</td>\n",
       "      <td>/mnt/BACKUP_NAS05/ECDTM_repo/Sub50_batch3/alig...</td>\n",
       "    </tr>\n",
       "    <tr>\n",
       "      <th>3</th>\n",
       "      <td>CRCB60</td>\n",
       "      <td>/mnt/BACKUP_NAS05/ECDTM_repo/Sub75a/align/6-ZC...</td>\n",
       "    </tr>\n",
       "    <tr>\n",
       "      <th>4</th>\n",
       "      <td>CRCB61</td>\n",
       "      <td>/mnt/BACKUP_NAS05/ECDTM_repository/align/CRCB6...</td>\n",
       "    </tr>\n",
       "    <tr>\n",
       "      <th>...</th>\n",
       "      <td>...</td>\n",
       "      <td>...</td>\n",
       "    </tr>\n",
       "    <tr>\n",
       "      <th>53</th>\n",
       "      <td>MH058</td>\n",
       "      <td>/mnt/BACKUP_NAS05/ECDTM_repo/R3166/align/66-ZM...</td>\n",
       "    </tr>\n",
       "    <tr>\n",
       "      <th>54</th>\n",
       "      <td>MH059</td>\n",
       "      <td>/mnt/BACKUP_NAS05/ECDTM_repo/R3113/align/43-ZM...</td>\n",
       "    </tr>\n",
       "    <tr>\n",
       "      <th>55</th>\n",
       "      <td>MH060</td>\n",
       "      <td>/mnt/BACKUP_NAS05/ECDTM_repo/R3144/align/1-ZMH...</td>\n",
       "    </tr>\n",
       "    <tr>\n",
       "      <th>56</th>\n",
       "      <td>MH061</td>\n",
       "      <td>/mnt/BACKUP_NAS05/ECDTM_repo/R3113/align/26-ZM...</td>\n",
       "    </tr>\n",
       "    <tr>\n",
       "      <th>57</th>\n",
       "      <td>MH062</td>\n",
       "      <td>/mnt/BACKUP_NAS05/ECDTM_repo/R3113/align/42-ZM...</td>\n",
       "    </tr>\n",
       "  </tbody>\n",
       "</table>\n",
       "<p>924 rows × 2 columns</p>\n",
       "</div>"
      ],
      "text/plain": [
       "   SampleID                                             TM_BAM\n",
       "0    CRCB54  /mnt/BACKUP_NAS05/ECDTM_repository/align/CRCB5...\n",
       "1    CRCB55  /mnt/BACKUP_NAS05/ECDTM_repository/align/CRCB5...\n",
       "2    CRCB59  /mnt/BACKUP_NAS05/ECDTM_repo/Sub50_batch3/alig...\n",
       "3    CRCB60  /mnt/BACKUP_NAS05/ECDTM_repo/Sub75a/align/6-ZC...\n",
       "4    CRCB61  /mnt/BACKUP_NAS05/ECDTM_repository/align/CRCB6...\n",
       "..      ...                                                ...\n",
       "53    MH058  /mnt/BACKUP_NAS05/ECDTM_repo/R3166/align/66-ZM...\n",
       "54    MH059  /mnt/BACKUP_NAS05/ECDTM_repo/R3113/align/43-ZM...\n",
       "55    MH060  /mnt/BACKUP_NAS05/ECDTM_repo/R3144/align/1-ZMH...\n",
       "56    MH061  /mnt/BACKUP_NAS05/ECDTM_repo/R3113/align/26-ZM...\n",
       "57    MH062  /mnt/BACKUP_NAS05/ECDTM_repo/R3113/align/42-ZM...\n",
       "\n",
       "[924 rows x 2 columns]"
      ]
     },
     "execution_count": 16,
     "metadata": {},
     "output_type": "execute_result"
    }
   ],
   "source": [
    "df"
   ]
  },
  {
   "cell_type": "code",
   "execution_count": null,
   "metadata": {},
   "outputs": [],
   "source": []
  }
 ],
 "metadata": {
  "kernelspec": {
   "display_name": "pytorch",
   "language": "python",
   "name": "python3"
  },
  "language_info": {
   "codemirror_mode": {
    "name": "ipython",
    "version": 3
   },
   "file_extension": ".py",
   "mimetype": "text/x-python",
   "name": "python",
   "nbconvert_exporter": "python",
   "pygments_lexer": "ipython3",
   "version": "3.9.19"
  }
 },
 "nbformat": 4,
 "nbformat_minor": 2
}
