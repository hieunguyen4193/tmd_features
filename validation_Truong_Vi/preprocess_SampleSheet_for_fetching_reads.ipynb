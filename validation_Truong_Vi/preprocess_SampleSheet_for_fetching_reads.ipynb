{
 "cells": [
  {
   "cell_type": "code",
   "execution_count": 1,
   "metadata": {},
   "outputs": [],
   "source": [
    "import pandas as pd \n",
    "\n",
    "df1 = pd.read_excel(\"Dataset_CRC_13.11_Methylation read_checked.xlsx\")\n",
    "df2 = pd.read_csv(\"metadata_Spike_in_silico_GW_samples_from_tissue_highdepth_15112024.csv\")\n",
    "df3 = pd.read_excel(\"metadata evaluate ctquantification.xlsx\")\n",
    "\n",
    "df1 = df1[[\"SampleID\", \"TM_BAM\"]]\n",
    "df3 = df3[[\"SampleID\", \"TM_BAM\"]]\n",
    "\n",
    "df = pd.concat([df1, df3], axis = 0)\n",
    "\n",
    "df.to_csv(\"validation_samples_Truong_and_Vi.csv\", index=False)"
   ]
  },
  {
   "cell_type": "code",
   "execution_count": 2,
   "metadata": {},
   "outputs": [
    {
     "data": {
      "text/plain": [
       "True"
      ]
     },
     "execution_count": 2,
     "metadata": {},
     "output_type": "execute_result"
    }
   ],
   "source": [
    "len(df.SampleID.unique()) == df.shape[0]"
   ]
  },
  {
   "cell_type": "code",
   "execution_count": 1,
   "metadata": {},
   "outputs": [],
   "source": [
    "import pandas as pd \n",
    "dfs1 = pd.read_excel(\"metadata evaluate ctquantification.xlsx\", sheet_name=\"Liver_MRD\")\n",
    "dfs2 = pd.read_excel(\"metadata evaluate ctquantification.xlsx\", sheet_name=\"CRC_MRD\")\n",
    "dfs3 = pd.read_excel(\"metadata evaluate ctquantification.xlsx\", sheet_name=\"Breast_MRD\")\n",
    "dfs4 = pd.read_excel(\"metadata evaluate ctquantification.xlsx\", sheet_name=\"ECD\")\n",
    "\n",
    "fulldf = pd.concat([dfs1, dfs2, dfs3, dfs4], axis = 0)\n",
    "fulldf.to_csv(\"validation_Truong_full.csv\")\n",
    "fulldf[[\"SampleID\", \"TM_BAM\"]].to_csv(\"validation_Truong.csv\", index = False)"
   ]
  },
  {
   "cell_type": "code",
   "execution_count": 18,
   "metadata": {},
   "outputs": [
    {
     "data": {
      "text/html": [
       "<div>\n",
       "<style scoped>\n",
       "    .dataframe tbody tr th:only-of-type {\n",
       "        vertical-align: middle;\n",
       "    }\n",
       "\n",
       "    .dataframe tbody tr th {\n",
       "        vertical-align: top;\n",
       "    }\n",
       "\n",
       "    .dataframe thead th {\n",
       "        text-align: right;\n",
       "    }\n",
       "</style>\n",
       "<table border=\"1\" class=\"dataframe\">\n",
       "  <thead>\n",
       "    <tr style=\"text-align: right;\">\n",
       "      <th></th>\n",
       "      <th>SampleID</th>\n",
       "      <th>TM_BAM</th>\n",
       "    </tr>\n",
       "  </thead>\n",
       "  <tbody>\n",
       "    <tr>\n",
       "      <th>0</th>\n",
       "      <td>MH002</td>\n",
       "      <td>/mnt/BACKUP_NAS05/ECDTM_repo/R3113/align/33-ZM...</td>\n",
       "    </tr>\n",
       "    <tr>\n",
       "      <th>1</th>\n",
       "      <td>MH003</td>\n",
       "      <td>/mnt/BACKUP_NAS05/ECDTM_repo/R3166/align/69-ZM...</td>\n",
       "    </tr>\n",
       "    <tr>\n",
       "      <th>2</th>\n",
       "      <td>MH004</td>\n",
       "      <td>/mnt/BACKUP_NAS05/ECDTM_repo/R3113/align/54-ZM...</td>\n",
       "    </tr>\n",
       "    <tr>\n",
       "      <th>3</th>\n",
       "      <td>MH005</td>\n",
       "      <td>/mnt/BACKUP_NAS05/ECDTM_repo/R3144/align/3-ZMH...</td>\n",
       "    </tr>\n",
       "    <tr>\n",
       "      <th>4</th>\n",
       "      <td>MH006</td>\n",
       "      <td>/mnt/BACKUP_NAS05/ECDTM_repo/R3166/align/79-ZM...</td>\n",
       "    </tr>\n",
       "    <tr>\n",
       "      <th>...</th>\n",
       "      <td>...</td>\n",
       "      <td>...</td>\n",
       "    </tr>\n",
       "    <tr>\n",
       "      <th>27</th>\n",
       "      <td>K0AB39</td>\n",
       "      <td>/mnt/BACKUP_NAS05/ECDTM_repo/R3065/align/9-K0A...</td>\n",
       "    </tr>\n",
       "    <tr>\n",
       "      <th>28</th>\n",
       "      <td>K0AC39</td>\n",
       "      <td>/mnt/BACKUP_NAS05/ECDTM_repo/R3154/align/6-K0A...</td>\n",
       "    </tr>\n",
       "    <tr>\n",
       "      <th>29</th>\n",
       "      <td>K0120</td>\n",
       "      <td>/mnt/BACKUP_NAS05/ECDTM_repository/align/13-K0...</td>\n",
       "    </tr>\n",
       "    <tr>\n",
       "      <th>30</th>\n",
       "      <td>K0413</td>\n",
       "      <td>/mnt/BACKUP_NAS05/ECDTM_repository/align/59-K0...</td>\n",
       "    </tr>\n",
       "    <tr>\n",
       "      <th>31</th>\n",
       "      <td>K0714</td>\n",
       "      <td>/mnt/BACKUP_NAS05/ECDTM_repository/align/57-K0...</td>\n",
       "    </tr>\n",
       "  </tbody>\n",
       "</table>\n",
       "<p>275 rows × 2 columns</p>\n",
       "</div>"
      ],
      "text/plain": [
       "   SampleID                                             TM_BAM\n",
       "0     MH002  /mnt/BACKUP_NAS05/ECDTM_repo/R3113/align/33-ZM...\n",
       "1     MH003  /mnt/BACKUP_NAS05/ECDTM_repo/R3166/align/69-ZM...\n",
       "2     MH004  /mnt/BACKUP_NAS05/ECDTM_repo/R3113/align/54-ZM...\n",
       "3     MH005  /mnt/BACKUP_NAS05/ECDTM_repo/R3144/align/3-ZMH...\n",
       "4     MH006  /mnt/BACKUP_NAS05/ECDTM_repo/R3166/align/79-ZM...\n",
       "..      ...                                                ...\n",
       "27   K0AB39  /mnt/BACKUP_NAS05/ECDTM_repo/R3065/align/9-K0A...\n",
       "28   K0AC39  /mnt/BACKUP_NAS05/ECDTM_repo/R3154/align/6-K0A...\n",
       "29    K0120  /mnt/BACKUP_NAS05/ECDTM_repository/align/13-K0...\n",
       "30    K0413  /mnt/BACKUP_NAS05/ECDTM_repository/align/59-K0...\n",
       "31    K0714  /mnt/BACKUP_NAS05/ECDTM_repository/align/57-K0...\n",
       "\n",
       "[275 rows x 2 columns]"
      ]
     },
     "execution_count": 18,
     "metadata": {},
     "output_type": "execute_result"
    }
   ],
   "source": []
  }
 ],
 "metadata": {
  "kernelspec": {
   "display_name": "pytorch",
   "language": "python",
   "name": "python3"
  },
  "language_info": {
   "codemirror_mode": {
    "name": "ipython",
    "version": 3
   },
   "file_extension": ".py",
   "mimetype": "text/x-python",
   "name": "python",
   "nbconvert_exporter": "python",
   "pygments_lexer": "ipython3",
   "version": "3.9.19"
  }
 },
 "nbformat": 4,
 "nbformat_minor": 2
}
