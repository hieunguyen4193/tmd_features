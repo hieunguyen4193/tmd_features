{
 "cells": [
  {
   "cell_type": "code",
   "execution_count": 2,
   "metadata": {},
   "outputs": [
    {
     "data": {
      "text/html": [
       "<div>\n",
       "<style scoped>\n",
       "    .dataframe tbody tr th:only-of-type {\n",
       "        vertical-align: middle;\n",
       "    }\n",
       "\n",
       "    .dataframe tbody tr th {\n",
       "        vertical-align: top;\n",
       "    }\n",
       "\n",
       "    .dataframe thead th {\n",
       "        text-align: right;\n",
       "    }\n",
       "</style>\n",
       "<table border=\"1\" class=\"dataframe\">\n",
       "  <thead>\n",
       "    <tr style=\"text-align: right;\">\n",
       "      <th></th>\n",
       "      <th>Spike_in_name</th>\n",
       "      <th>Spike_in_resource</th>\n",
       "    </tr>\n",
       "  </thead>\n",
       "  <tbody>\n",
       "    <tr>\n",
       "      <th>0</th>\n",
       "      <td>ZNL07S</td>\n",
       "      <td>/mnt/NAS_PROJECT/vol_ECDteam/hieunho/output/ti...</td>\n",
       "    </tr>\n",
       "    <tr>\n",
       "      <th>6</th>\n",
       "      <td>ZNB05S</td>\n",
       "      <td>/mnt/NAS_PROJECT/vol_ECDteam/hieunho/output/ti...</td>\n",
       "    </tr>\n",
       "    <tr>\n",
       "      <th>45</th>\n",
       "      <td>ZMG048S</td>\n",
       "      <td>/mnt/NAS_PROJECT/vol_ECDteam/hieunho/output/ti...</td>\n",
       "    </tr>\n",
       "    <tr>\n",
       "      <th>105</th>\n",
       "      <td>ZMH050S</td>\n",
       "      <td>/mnt/NAS_PROJECT/vol_ECDteam/hieunho/output/ti...</td>\n",
       "    </tr>\n",
       "    <tr>\n",
       "      <th>120</th>\n",
       "      <td>ZNC04S</td>\n",
       "      <td>/mnt/NAS_PROJECT/vol_ECDteam/hieunho/output/ti...</td>\n",
       "    </tr>\n",
       "  </tbody>\n",
       "</table>\n",
       "</div>"
      ],
      "text/plain": [
       "    Spike_in_name                                  Spike_in_resource\n",
       "0          ZNL07S  /mnt/NAS_PROJECT/vol_ECDteam/hieunho/output/ti...\n",
       "6          ZNB05S  /mnt/NAS_PROJECT/vol_ECDteam/hieunho/output/ti...\n",
       "45        ZMG048S  /mnt/NAS_PROJECT/vol_ECDteam/hieunho/output/ti...\n",
       "105       ZMH050S  /mnt/NAS_PROJECT/vol_ECDteam/hieunho/output/ti...\n",
       "120        ZNC04S  /mnt/NAS_PROJECT/vol_ECDteam/hieunho/output/ti..."
      ]
     },
     "execution_count": 2,
     "metadata": {},
     "output_type": "execute_result"
    }
   ],
   "source": [
    "# import pandas as pd \n",
    "\n",
    "# metadata = pd.read_csv(\"metadata_Spike_in_silico_TMD_samples_from_tissue_highdepth.csv\")\n",
    "\n",
    "# metadata = metadata[[\"Spike_in_name\", \"Spike_in_resource\"]]\n",
    "# metadata[metadata[\"Spike_in_resource\"].duplicated() == False]"
   ]
  },
  {
   "cell_type": "markdown",
   "metadata": {},
   "source": [
    "# Check missing samples 07.10.2024"
   ]
  },
  {
   "cell_type": "code",
   "execution_count": 14,
   "metadata": {},
   "outputs": [],
   "source": [
    "import pandas as pd \n",
    "import pathlib\n",
    "\n",
    "newdir = \"/media/hieunguyen/GSHD_HN01/raw_data/reads_from_450_regions_with_readname_TMDfull\"\n",
    "olddir = \"/media/hieunguyen/GSHD_HN01/raw_data/reads_from_450_regions_TMDfull\" \n",
    "\n",
    "new_files = [item.name for item in pathlib.Path(newdir).glob(\"*.csv\")]\n",
    "old_files = [item.name for item in pathlib.Path(olddir).glob(\"*.csv\")]\n",
    "\n",
    "missing_files = [item.split(\".sorted.csv\")[0] for item in old_files if item not in new_files]\n",
    "metadata = pd.read_excel(\"metadata_cfDNA_lowpdepth_TMD_bam_cov.xlsx\")\n",
    "metadata = metadata[metadata[\"SampleID\"].isin(missing_files)]\n",
    "\n",
    "metadata[[\"SampleID\", \"TM_BAM\"]].to_csv(\"missing_samples_TM_BAM.20241007.csv\", header = False, index = False)\n"
   ]
  }
 ],
 "metadata": {
  "kernelspec": {
   "display_name": "pytorch",
   "language": "python",
   "name": "python3"
  },
  "language_info": {
   "codemirror_mode": {
    "name": "ipython",
    "version": 3
   },
   "file_extension": ".py",
   "mimetype": "text/x-python",
   "name": "python",
   "nbconvert_exporter": "python",
   "pygments_lexer": "ipython3",
   "version": "3.9.19"
  }
 },
 "nbformat": 4,
 "nbformat_minor": 2
}
