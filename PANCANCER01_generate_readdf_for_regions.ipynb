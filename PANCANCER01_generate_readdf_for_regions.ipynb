{
 "cells": [
  {
   "cell_type": "code",
   "execution_count": null,
   "metadata": {},
   "outputs": [],
   "source": [
    "import pandas as pd\n",
    "import numpy as np\n",
    "import pathlib \n",
    "import os\n",
    "import matplotlib.pyplot as plt\n",
    "import seaborn as sns\n",
    "import random\n",
    "from tqdm import tqdm\n",
    "import warnings\n",
    "import pandas as pd\n",
    "import argparse\n",
    "warnings.filterwarnings('ignore')\n",
    "\n",
    "data_version = \"TMD_cov\"\n",
    "output_version = \"20240910\"\n",
    "\n",
    "outdir = \"/media/hieunguyen/HNSD_mini/outdir\"\n",
    "PROJECT = \"TMD450_TCGA_data_analysis\"\n",
    "thres_hypo = 0.3\n",
    "thres_hyper = 0.6\n",
    "\n",
    "path_to_main_output = os.path.join(outdir, PROJECT, output_version)\n",
    "path_to_03_output = os.path.join(path_to_main_output, \"03_output\")\n",
    "path_to_read_data = \"/media/hieunguyen/GSHD_HN01/raw_data/reads_from_450_regions_with_readname_TMDfull\"\n",
    "path_to_save_panel = os.path.join( path_to_main_output, \"panel\")\n",
    "\n",
    "cpg450df = pd.read_excel(os.path.join(path_to_save_panel, \"TMD450_overlapping_TCGA.xlsx\"))\n",
    "cpg450df = cpg450df[cpg450df['overlapTCGA'] == \"yes\"]\n",
    "cpg450df = cpg450df.drop_duplicates(subset=['cpg'])\n",
    "\n",
    "metadata = pd.read_excel(\"metadata_cfDNA_lowpdepth_TMD_bam_cov.xlsx\")\n",
    "\n",
    "##### generate readdf for all samples, not only training samples\n",
    "# metadata = metadata[metadata[\"Set\"] == \"train\"]\n",
    "\n",
    "metadata.head()\n",
    "metadata.shape\n",
    "\n",
    "def assign_read_type(x, thres_hypo, thres_hyper):\n",
    "    if x < thres_hypo:\n",
    "        return \"hypo\"\n",
    "    elif x > thres_hyper:\n",
    "        return \"hyper\"\n",
    "    else:\n",
    "        return \"none\"\n",
    "def check_read_inside_region(start, seq, region):\n",
    "        read_end = start + len(seq)\n",
    "        region_start = int(region.split(\":\")[1].split(\"-\")[0])\n",
    "        region_end = int(region.split(\":\")[1].split(\"-\")[1])\n",
    "        if start >= region_start and read_end <= region_end:\n",
    "            return \"in\"\n",
    "        else: \n",
    "            return \"overlap\"\n",
    "        \n",
    "all_read_files = [item for item in pathlib.Path(path_to_read_data).glob(\"*.sorted.csv\") if item.name.replace(\".sorted.csv\", \"\") in metadata[\"SampleID\"].values]\n",
    "\n",
    "all_countDMP_results = [item for item in pathlib.Path(path_to_03_output).glob(\"*/countDMPs.xlsx\")]\n",
    "# remove gastric results, not statistically significant\n",
    "all_countDMP_results = [item for item in all_countDMP_results if \"Gastric\" not in str(item)]\n",
    "print(f\"Number of samples in this analysis: {len(all_read_files)}\")"
   ]
  },
  {
   "cell_type": "code",
   "execution_count": null,
   "metadata": {},
   "outputs": [
    {
     "ename": "NameError",
     "evalue": "name 'pd' is not defined",
     "output_type": "error",
     "traceback": [
      "\u001b[0;31m---------------------------------------------------------------------------\u001b[0m",
      "\u001b[0;31mNameError\u001b[0m                                 Traceback (most recent call last)",
      "Cell \u001b[0;32mIn[2], line 1\u001b[0m\n\u001b[0;32m----> 1\u001b[0m testdf \u001b[38;5;241m=\u001b[39m \u001b[43mpd\u001b[49m\u001b[38;5;241m.\u001b[39mDataFrame()\n\u001b[1;32m      2\u001b[0m \u001b[38;5;28;01mfor\u001b[39;00m item \u001b[38;5;129;01min\u001b[39;00m all_countDMP_results:\n\u001b[1;32m      3\u001b[0m     tmpdf \u001b[38;5;241m=\u001b[39m pd\u001b[38;5;241m.\u001b[39mread_excel(item)\n",
      "\u001b[0;31mNameError\u001b[0m: name 'pd' is not defined"
     ]
    }
   ],
   "source": [
    "testdf = pd.DataFrame()\n",
    "for item in all_countDMP_results:\n",
    "    tmpdf = pd.read_excel(item)\n",
    "    tmpdf[\"Label\"] = str(item).split(\"/\")[-2]\n",
    "    testdf = pd.concat([testdf, tmpdf], axis = 0)\n",
    "print(\"Number of TMD450 regions that have been tested by TCGA data: {}\".format(testdf.shape[0]))\n",
    "if \"hyper\" not in testdf.columns:\n",
    "    testdf[\"hyper\"] = 0\n",
    "if \"hypo\" not in testdf.columns:\n",
    "    testdf[\"hypo\"] = 0\n",
    "testdf[\"hypo_or_hyper\"] = testdf[[\"hyper\", \"hypo\"]].apply(lambda x: \"hyper\" if x[0] > x[1] else \"hypo\", axis = 1)\n",
    "testdf[\"region_combiname\"] = testdf[[\"Var1\", \"hypo_or_hyper\"]].apply(lambda x: f\"{x[0]}_{x[1]}\", axis = 1)\n",
    "\n",
    "testdf"
   ]
  }
 ],
 "metadata": {
  "kernelspec": {
   "display_name": "pytorch",
   "language": "python",
   "name": "python3"
  },
  "language_info": {
   "codemirror_mode": {
    "name": "ipython",
    "version": 3
   },
   "file_extension": ".py",
   "mimetype": "text/x-python",
   "name": "python",
   "nbconvert_exporter": "python",
   "pygments_lexer": "ipython3",
   "version": "3.9.19"
  }
 },
 "nbformat": 4,
 "nbformat_minor": 2
}
