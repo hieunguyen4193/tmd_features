{
 "cells": [
  {
   "cell_type": "code",
   "execution_count": null,
   "metadata": {},
   "outputs": [
    {
     "name": "stdout",
     "output_type": "stream",
     "text": [
      "Number of samples in this analysis: 0\n"
     ]
    }
   ],
   "source": [
    "import pandas as pd\n",
    "import numpy as np\n",
    "import pathlib \n",
    "import os\n",
    "import matplotlib.pyplot as plt\n",
    "import seaborn as sns\n",
    "import random\n",
    "from tqdm import tqdm\n",
    "import warnings\n",
    "import pandas as pd\n",
    "import argparse\n",
    "warnings.filterwarnings('ignore')\n",
    "\n",
    "data_version = \"TMD_cov\"\n",
    "output_version = \"20240910\"\n",
    "\n",
    "outdir = \"/media/hieunguyen/HNSD_mini/outdir\"\n",
    "PROJECT = \"TMD450_TCGA_data_analysis\"\n",
    "thres_hypo = 0.3\n",
    "thres_hyper = 0.6\n",
    "\n",
    "path_to_main_output = os.path.join(outdir, PROJECT, output_version)\n",
    "path_to_read_data = \"reads_from_450_regions_with_readname_TMDfull\"\n",
    "path_to_save_panel = os.path.join( path_to_main_output, \"panel\")\n",
    "\n",
    "cpg450df = pd.read_excel(os.path.join(path_to_save_panel, \"TMD450_overlapping_TCGA.xlsx\"))\n",
    "cpg450df = cpg450df[cpg450df['overlapTCGA'] == \"yes\"]\n",
    "cpg450df = cpg450df.drop_duplicates(subset=['cpg'])\n",
    "\n",
    "metadata = pd.read_excel(\"metadata_cfDNA_lowpdepth_TMD_bam_cov.xlsx\")\n",
    "\n",
    "##### generate readdf for all samples, not only training samples\n",
    "# metadata = metadata[metadata[\"Set\"] == \"train\"]\n",
    "\n",
    "metadata.head()\n",
    "metadata.shape\n",
    "\n",
    "def assign_read_type(x, thres_hypo, thres_hyper):\n",
    "    if x < thres_hypo:\n",
    "        return \"hypo\"\n",
    "    elif x > thres_hyper:\n",
    "        return \"hyper\"\n",
    "    else:\n",
    "        return \"none\"\n",
    "def check_read_inside_region(start, seq, region):\n",
    "        read_end = start + len(seq)\n",
    "        region_start = int(region.split(\":\")[1].split(\"-\")[0])\n",
    "        region_end = int(region.split(\":\")[1].split(\"-\")[1])\n",
    "        if start >= region_start and read_end <= region_end:\n",
    "            return \"in\"\n",
    "        else: \n",
    "            return \"overlap\"\n",
    "        \n",
    "all_read_files = [item for item in pathlib.Path(path_to_read_data).glob(\"*.sorted.csv\") if item.name.replace(\".sorted.csv\", \"\") in metadata[\"SampleID\"].values]\n",
    "\n",
    "print(f\"Number of samples in this analysis: {len(all_read_files)}\")"
   ]
  },
  {
   "cell_type": "code",
   "execution_count": 7,
   "metadata": {},
   "outputs": [
    {
     "data": {
      "text/plain": [
       "'/media/hieunguyen/GSHD_HN01/raw_data/reads_from_450_regions'"
      ]
     },
     "execution_count": 7,
     "metadata": {},
     "output_type": "execute_result"
    }
   ],
   "source": [
    "path_to_read_data"
   ]
  }
 ],
 "metadata": {
  "kernelspec": {
   "display_name": "pytorch",
   "language": "python",
   "name": "python3"
  },
  "language_info": {
   "codemirror_mode": {
    "name": "ipython",
    "version": 3
   },
   "file_extension": ".py",
   "mimetype": "text/x-python",
   "name": "python",
   "nbconvert_exporter": "python",
   "pygments_lexer": "ipython3",
   "version": "3.9.19"
  }
 },
 "nbformat": 4,
 "nbformat_minor": 2
}
