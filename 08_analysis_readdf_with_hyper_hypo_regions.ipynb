{
 "cells": [
  {
   "cell_type": "code",
   "execution_count": 1,
   "metadata": {},
   "outputs": [
    {
     "ename": "TypeError",
     "evalue": "'PosixPath' object is not iterable",
     "output_type": "error",
     "traceback": [
      "\u001b[0;31m---------------------------------------------------------------------------\u001b[0m",
      "\u001b[0;31mTypeError\u001b[0m                                 Traceback (most recent call last)",
      "Cell \u001b[0;32mIn[1], line 26\u001b[0m\n\u001b[1;32m     23\u001b[0m path_to_main_output \u001b[38;5;241m=\u001b[39m os\u001b[38;5;241m.\u001b[39mpath\u001b[38;5;241m.\u001b[39mjoin(outdir, PROJECT, output_version)\n\u001b[1;32m     24\u001b[0m path_to_07_output \u001b[38;5;241m=\u001b[39m os\u001b[38;5;241m.\u001b[39mpath\u001b[38;5;241m.\u001b[39mjoin(outdir, PROJECT, output_version, input_cancer_class, \u001b[38;5;124m\"\u001b[39m\u001b[38;5;124mthres_hypo_\u001b[39m\u001b[38;5;132;01m{}\u001b[39;00m\u001b[38;5;124m_hyper_\u001b[39m\u001b[38;5;132;01m{}\u001b[39;00m\u001b[38;5;124m\"\u001b[39m\u001b[38;5;241m.\u001b[39mformat(thres_hypo, thres_hyper))\n\u001b[0;32m---> 26\u001b[0m all_read_files \u001b[38;5;241m=\u001b[39m [item \u001b[38;5;28;01mfor\u001b[39;00m item \u001b[38;5;129;01min\u001b[39;00m pathlib\u001b[38;5;241m.\u001b[39mPath(os\u001b[38;5;241m.\u001b[39mpath\u001b[38;5;241m.\u001b[39mjoin(path_to_07_output, \u001b[38;5;124m\"\u001b[39m\u001b[38;5;124m*.csv\u001b[39m\u001b[38;5;124m\"\u001b[39m))]\n\u001b[1;32m     27\u001b[0m all_read_files\n",
      "\u001b[0;31mTypeError\u001b[0m: 'PosixPath' object is not iterable"
     ]
    }
   ],
   "source": [
    "import pandas as pd\n",
    "import numpy as np\n",
    "import pathlib \n",
    "import os\n",
    "import matplotlib.pyplot as plt\n",
    "import seaborn as sns\n",
    "import random\n",
    "from tqdm import tqdm\n",
    "import warnings\n",
    "import pandas as pd\n",
    "warnings.filterwarnings('ignore')\n",
    "\n",
    "data_version = \"TMD_cov\"\n",
    "output_version = \"20240910\"\n",
    "\n",
    "outdir = \"/media/hieunguyen/HNSD_mini/outdir\"\n",
    "PROJECT = \"TMD450_TCGA_data_analysis\"\n",
    "thres_hypo = 0.3\n",
    "thres_hyper = 0.6\n",
    "\n",
    "input_cancer_class = \"Liver\"\n",
    "\n",
    "path_to_main_output = os.path.join(outdir, PROJECT, output_version)\n",
    "path_to_07_output = os.path.join(outdir, PROJECT, output_version, input_cancer_class, \"thres_hypo_{}_hyper_{}\".format(thres_hypo, thres_hyper))\n",
    "\n",
    "all_read_files = [item for item in pathlib.Path(os.path.join(path_to_07_output)).glob(\"*.csv\")]\n",
    "print(\"There are {} samples in the case {} vs control\".format(len(all_read_files), input_cancer_class))"
   ]
  }
 ],
 "metadata": {
  "kernelspec": {
   "display_name": "pytorch",
   "language": "python",
   "name": "python3"
  },
  "language_info": {
   "codemirror_mode": {
    "name": "ipython",
    "version": 3
   },
   "file_extension": ".py",
   "mimetype": "text/x-python",
   "name": "python",
   "nbconvert_exporter": "python",
   "pygments_lexer": "ipython3",
   "version": "3.9.19"
  }
 },
 "nbformat": 4,
 "nbformat_minor": 2
}
