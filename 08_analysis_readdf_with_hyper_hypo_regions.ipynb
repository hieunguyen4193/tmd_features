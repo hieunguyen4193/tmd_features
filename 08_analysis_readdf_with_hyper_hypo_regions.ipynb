{
 "cells": [
  {
   "cell_type": "code",
   "execution_count": 7,
   "metadata": {},
   "outputs": [
    {
     "name": "stdout",
     "output_type": "stream",
     "text": [
      "There are 2332 samples in the case Liver vs control\n",
      "Number of TMD450 regions that have been tested by TCGA data: 274\n"
     ]
    }
   ],
   "source": [
    "import pandas as pd\n",
    "import numpy as np\n",
    "import pathlib \n",
    "import os\n",
    "import matplotlib.pyplot as plt\n",
    "import seaborn as sns\n",
    "import random\n",
    "from tqdm import tqdm\n",
    "import warnings\n",
    "import pandas as pd\n",
    "warnings.filterwarnings('ignore')\n",
    "\n",
    "data_version = \"TMD_cov\"\n",
    "output_version = \"20240910\"\n",
    "\n",
    "outdir = \"/media/hieunguyen/HNSD_mini/outdir\"\n",
    "PROJECT = \"TMD450_TCGA_data_analysis\"\n",
    "thres_hypo = 0.3\n",
    "thres_hyper = 0.6\n",
    "\n",
    "input_cancer_class = \"Liver\"\n",
    "\n",
    "path_to_main_output = os.path.join(outdir, PROJECT, output_version)\n",
    "path_to_03_output = os.path.join(path_to_main_output, \"03_output\", input_cancer_class)\n",
    "path_to_07_output = os.path.join(outdir, PROJECT, output_version, input_cancer_class, \"thres_hypo_{}_hyper_{}\".format(thres_hypo, thres_hyper))\n",
    "\n",
    "all_read_files = [item for item in pathlib.Path(os.path.join(path_to_07_output)).glob(\"*.csv\")]\n",
    "print(\"There are {} samples in the case {} vs control\".format(len(all_read_files), input_cancer_class))\n",
    "\n",
    "testdf = pd.read_excel(os.path.join(path_to_03_output, \"countDMPs.xlsx\"))\n",
    "\n",
    "print(\"Number of TMD450 regions that have been tested by TCGA data: {}\".format(testdf.shape[0]))\n",
    "\n",
    "testdf[\"hypo_or_hyper\"] = testdf[[\"hyper\", \"hypo\"]].apply(lambda x: \"hyper\" if x[0] > x[1] else \"hypo\", axis = 1)"
   ]
  },
  {
   "cell_type": "code",
   "execution_count": 19,
   "metadata": {},
   "outputs": [],
   "source": [
    "file = all_read_files[0]\n",
    "tmpdf = pd.read_csv(file, index_col = [0])\n",
    "tmpdf[\"region\"] = tmpdf[\"region\"].apply(lambda x: x.replace(\":\", \"_\").replace(\"-\", \"_\"))\n",
    "tmpdf = tmpdf[tmpdf[\"region\"].isin(testdf.Var1.unique())]"
   ]
  },
  {
   "cell_type": "code",
   "execution_count": 27,
   "metadata": {},
   "outputs": [],
   "source": [
    "resdf = tmpdf.groupby([\"region\", \"read_classification\"]).seq.count().reset_index().pivot_table(index = \"region\", columns = \"read_classification\", values = \"seq\").reset_index().fillna(0)"
   ]
  },
  {
   "cell_type": "code",
   "execution_count": 34,
   "metadata": {},
   "outputs": [],
   "source": [
    "resdf[\"region_type\"] = resdf[\"region\"].apply(lambda x: testdf[testdf.Var1 == x].hypo_or_hyper.values[0])\n",
    "resdf[\"candi_reads\"] = resdf[[\"region_type\", \"hyper\", \"hypo\"]].apply(lambda x: x[1] if x[0] == \"hyper\" else x[2], axis = 1)"
   ]
  }
 ],
 "metadata": {
  "kernelspec": {
   "display_name": "pytorch",
   "language": "python",
   "name": "python3"
  },
  "language_info": {
   "codemirror_mode": {
    "name": "ipython",
    "version": 3
   },
   "file_extension": ".py",
   "mimetype": "text/x-python",
   "name": "python",
   "nbconvert_exporter": "python",
   "pygments_lexer": "ipython3",
   "version": "3.9.19"
  }
 },
 "nbformat": 4,
 "nbformat_minor": 2
}
