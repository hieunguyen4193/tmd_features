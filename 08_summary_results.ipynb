{
 "cells": [
  {
   "cell_type": "code",
   "execution_count": 24,
   "metadata": {},
   "outputs": [],
   "source": [
    "import pandas as pd\n",
    "import numpy as np\n",
    "import pathlib \n",
    "import os\n",
    "import matplotlib.pyplot as plt\n",
    "import seaborn as sns\n",
    "import random\n",
    "from tqdm import tqdm\n",
    "import warnings\n",
    "import pandas as pd\n",
    "warnings.filterwarnings('ignore')\n",
    "\n",
    "data_version = \"TMD_cov\"\n",
    "output_version = \"20240910\"\n",
    "\n",
    "outdir = \"/media/hieunguyen/HNSD_mini/outdir\"\n",
    "PROJECT = \"TMD450_TCGA_data_analysis\"\n",
    "thres_hypo = 0.3\n",
    "thres_hyper = 0.6\n",
    "\n",
    "input_cancer_class = \"Liver\"\n",
    "path_to_main_output = os.path.join(outdir, PROJECT, output_version)\n",
    "path_to_03_output = os.path.join(path_to_main_output, \"03_output\", input_cancer_class)\n",
    "path_to_07_output = os.path.join(outdir, PROJECT, output_version, \"07_output\", input_cancer_class, \"thres_hypo_{}_hyper_{}\".format(thres_hypo, thres_hyper))\n",
    "\n",
    "metadata = pd.read_excel(\"metadata_cfDNA_lowpdepth_TMD_bam_cov.xlsx\")\n",
    "metadata = metadata[metadata[\"Label\"].isin([input_cancer_class, \"Control\"])]\n",
    "\n",
    "all_files = [item for item in pathlib.Path(path_to_07_output).glob(\"*.candi_reads.csv\")]\n",
    "countdf = pd.read_csv(os.path.join(path_to_07_output, \"all_count.csv\"), index_col = [0])\n",
    "\n",
    "all_samples = []\n",
    "all_mean_candi_reads = []\n",
    "for file in all_files:\n",
    "    tmpdf = pd.read_csv(file)\n",
    "    mean_candi_reads = tmpdf.candi_reads.mean()\n",
    "    all_samples.append(file.name.split(\".\")[0])\n",
    "    all_mean_candi_reads.append(mean_candi_reads)\n",
    "\n",
    "candidf = pd.DataFrame({\"SampleID\": all_samples, \"num_candi_reads\": all_mean_candi_reads})\n",
    "candidf = candidf.merge(countdf, right_on = \"SampleID\", left_on = \"SampleID\")\n",
    "candidf[\"ratio_raw\"] = candidf[\"num_candi_reads\"] / candidf[\"raw_count\"]\n",
    "candidf = candidf.merge(metadata[[\"SampleID\", \"Label\", \"Set\"]], right_on = \"SampleID\", left_on = \"SampleID\")\n",
    "sns.boxplot(data = candidf, x = \"Label\", y = \"ratio_raw\", hue = \"Set\")"
   ]
  }
 ],
 "metadata": {
  "kernelspec": {
   "display_name": "pytorch",
   "language": "python",
   "name": "python3"
  },
  "language_info": {
   "codemirror_mode": {
    "name": "ipython",
    "version": 3
   },
   "file_extension": ".py",
   "mimetype": "text/x-python",
   "name": "python",
   "nbconvert_exporter": "python",
   "pygments_lexer": "ipython3",
   "version": "3.9.19"
  }
 },
 "nbformat": 4,
 "nbformat_minor": 2
}
