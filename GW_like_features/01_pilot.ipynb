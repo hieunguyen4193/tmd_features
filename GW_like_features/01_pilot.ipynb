{
 "cells": [
  {
   "cell_type": "code",
   "execution_count": 24,
   "metadata": {},
   "outputs": [
    {
     "name": "stdout",
     "output_type": "stream",
     "text": [
      "Number of samples in this folder: 7289\n"
     ]
    }
   ],
   "source": [
    "import pandas as pd\n",
    "import numpy as np\n",
    "import pathlib \n",
    "import os\n",
    "import matplotlib.pyplot as plt\n",
    "import seaborn as sns\n",
    "import random\n",
    "from tqdm import tqdm\n",
    "import warnings\n",
    "import pandas as pd\n",
    "import argparse\n",
    "import pysam\n",
    "\n",
    "warnings.filterwarnings('ignore')\n",
    "\n",
    "outdir = \"/media/hieunguyen/HNSD_mini/outdir\"\n",
    "PROJECT = \"TMD450_GW_like_features\"\n",
    "\n",
    "path_to_read_data = \"/media/hieunguyen/GSHD_HN01/raw_data/reads_from_450_regions\"\n",
    "metadata = pd.read_excel(\"metadata_cfDNA_lowpdepth_TMD_bam_cov.xlsx\")\n",
    "\n",
    "path_to_main_output = os.path.join(outdir, PROJECT)\n",
    "os.system(f\"mkdir -p {path_to_main_output}\")\n",
    "\n",
    "all_files = [item for item in pathlib.Path(path_to_read_data).glob(\"*.csv\")]\n",
    "print(f\"Number of samples in this folder: {len(all_files)}\")\n",
    "\n",
    "available_samples = [item.name.split(\"/\")[-1].split(\".sorted\")[0] for item in all_files]"
   ]
  },
  {
   "cell_type": "code",
   "execution_count": 21,
   "metadata": {},
   "outputs": [
    {
     "data": {
      "text/plain": [
       "<Axes: xlabel='flen', ylabel='alpha'>"
      ]
     },
     "execution_count": 21,
     "metadata": {},
     "output_type": "execute_result"
    },
    {
     "data": {
      "image/png": "[encoded data removed]",
      "text/plain": [
       "<Figure size 640x480 with 1 Axes>"
      ]
     },
     "metadata": {},
     "output_type": "display_data"
    }
   ],
   "source": [
    "file = all_files[2]\n",
    "tmpdf = pd.read_csv(file, index_col=0)\n",
    "tmpdf[\"flen\"] = tmpdf[\"flen\"].apply(lambda x: abs(x))\n",
    "region = \"chr1:1163599-1163832\"\n",
    "flen_methyl = tmpdf[tmpdf[\"region\"] == region][[\"flen\", \"alpha\"]]\n",
    "flen_methyl = flen_methyl[(flen_methyl[\"flen\"] <= 250) & (flen_methyl[\"flen\"] >= 50)]\n",
    "sns.scatterplot(flen_methyl, x = \"flen\", y = \"alpha\")"
   ]
  },
  {
   "cell_type": "code",
   "execution_count": 28,
   "metadata": {},
   "outputs": [
    {
     "data": {
      "text/plain": [
       "Label\n",
       "Breast                   453\n",
       "CRC                      377\n",
       "Control                 5827\n",
       "Gastric                  159\n",
       "Liver                    136\n",
       "Lung                     293\n",
       "Ovarian cancer             1\n",
       "Pancreatic cancer          5\n",
       "benign breast              3\n",
       "benign gastric            10\n",
       "benign lung                1\n",
       "multiple benign            8\n",
       "no lesions                 9\n",
       "other benign lesions       7\n",
       "Name: SampleID, dtype: int64"
      ]
     },
     "execution_count": 28,
     "metadata": {},
     "output_type": "execute_result"
    }
   ],
   "source": [
    "metadata[metadata[\"SampleID\"].isin(available_samples)].groupby(\"Label\")[\"SampleID\"].count()"
   ]
  }
 ],
 "metadata": {
  "kernelspec": {
   "display_name": "pytorch",
   "language": "python",
   "name": "python3"
  },
  "language_info": {
   "codemirror_mode": {
    "name": "ipython",
    "version": 3
   },
   "file_extension": ".py",
   "mimetype": "text/x-python",
   "name": "python",
   "nbconvert_exporter": "python",
   "pygments_lexer": "ipython3",
   "version": "3.9.19"
  }
 },
 "nbformat": 4,
 "nbformat_minor": 2
}
